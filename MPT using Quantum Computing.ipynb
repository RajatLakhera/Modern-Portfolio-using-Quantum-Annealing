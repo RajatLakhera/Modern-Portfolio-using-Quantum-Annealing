{
 "cells": [
  {
   "cell_type": "code",
   "execution_count": 1,
   "id": "6d1379e4",
   "metadata": {},
   "outputs": [],
   "source": [
    "import numpy as np\n",
    "from qiskit_optimization import QuadraticProgram\n",
    "from qiskit import Aer,QuantumRegister, ClassicalRegister, QuantumCircuit, execute\n",
    "from qiskit.visualization import plot_histogram\n",
    "from qiskit.algorithms.minimum_eigensolvers import QAOA\n",
    "from qiskit.algorithms.optimizers import COBYLA\n",
    "from qiskit.primitives import Sampler\n",
    "from itertools import product"
   ]
  },
  {
   "cell_type": "markdown",
   "id": "9f183166",
   "metadata": {},
   "source": [
    "<h3> Setting Up Quantum Annealer"
   ]
  },
  {
   "cell_type": "code",
   "execution_count": 2,
   "id": "4a4177fe",
   "metadata": {
    "scrolled": true
   },
   "outputs": [],
   "source": [
    "from decimal import Decimal\n",
    "import dimod\n",
    "from dwave.system import EmbeddingComposite, DWaveSampler\n",
    "from dwave.system import LeapHybridSampler"
   ]
  },
  {
   "cell_type": "code",
   "execution_count": 3,
   "id": "93db4898",
   "metadata": {},
   "outputs": [],
   "source": [
    "def annealer_solver(qubo_matrix,backend=\"Classical\",shots =1000):\n",
    "    qubo_dict = {}\n",
    "\n",
    "    for i in range(qubo_matrix.shape[0]):\n",
    "        for j in range(qubo_matrix.shape[1]):\n",
    "            if i == j:\n",
    "                qubo_dict[(i,j)] = qubo_matrix[i,j]\n",
    "            elif i != j:\n",
    "                qubo_dict[(i,j)] = qubo_matrix[i,j]\n",
    "            else:\n",
    "                pass\n",
    "\n",
    "\n",
    "    bqm = dimod.BinaryQuadraticModel.from_qubo(qubo_dict)\n",
    "\n",
    "    if backend == \"Classical\":\n",
    "        print(\"\\nPlease wait, while the Classical engine is running....\")\n",
    "        sampleset = dimod.SimulatedAnnealingSampler().sample(bqm, num_reads=shots)\n",
    "\n",
    "    elif backend == \"Quantum\":\n",
    "        print(\"\\nPlease wait, while the Quantum engine is running....\")\n",
    "        sampleset = EmbeddingComposite(DWaveSampler()).sample(bqm, num_reads=shots)\n",
    "\n",
    "    elif backend == \"Hybrid\":\n",
    "        print(\"\\nPlease wait, while the Hybrid Classical-Quantum engine is running....\")\n",
    "        sampleset = LeapHybridSampler().sample(bqm)\n",
    "    \n",
    "    else:\n",
    "        print(\"\\n\\nPlease select a valid backend!\")\n",
    "        pass\n",
    "\n",
    "    best_sample = list(sampleset.first.sample.values())\n",
    "    return (best_sample)"
   ]
  },
  {
   "cell_type": "markdown",
   "id": "8ba4adfe",
   "metadata": {},
   "source": [
    "<h3> Stock List"
   ]
  },
  {
   "cell_type": "code",
   "execution_count": 4,
   "id": "02377c92",
   "metadata": {
    "scrolled": true
   },
   "outputs": [],
   "source": [
    "import numpy as np\n",
    "import pandas as pd\n",
    "import yfinance as yf\n",
    "import matplotlib.pyplot as plt"
   ]
  },
  {
   "cell_type": "code",
   "execution_count": 5,
   "id": "a4151695",
   "metadata": {},
   "outputs": [],
   "source": [
    "stocks=['TSLA','AMZN','AAPL','NFLX','GOOG']\n",
    "start_date = '2020-01-01'\n",
    "end_date = '2022-01-01'"
   ]
  },
  {
   "cell_type": "code",
   "execution_count": 6,
   "id": "58460bf8",
   "metadata": {},
   "outputs": [],
   "source": [
    "df=pd.DataFrame()\n",
    "\n",
    "for stock in stocks:\n",
    "    df[stock] = yf.Ticker(stock).history(start = start_date, end = end_date, interval = '1d')['Close']"
   ]
  },
  {
   "cell_type": "code",
   "execution_count": 7,
   "id": "01fc143f",
   "metadata": {},
   "outputs": [
    {
     "data": {
      "text/html": [
       "<div>\n",
       "<style scoped>\n",
       "    .dataframe tbody tr th:only-of-type {\n",
       "        vertical-align: middle;\n",
       "    }\n",
       "\n",
       "    .dataframe tbody tr th {\n",
       "        vertical-align: top;\n",
       "    }\n",
       "\n",
       "    .dataframe thead th {\n",
       "        text-align: right;\n",
       "    }\n",
       "</style>\n",
       "<table border=\"1\" class=\"dataframe\">\n",
       "  <thead>\n",
       "    <tr style=\"text-align: right;\">\n",
       "      <th></th>\n",
       "      <th>TSLA</th>\n",
       "      <th>AMZN</th>\n",
       "      <th>AAPL</th>\n",
       "      <th>NFLX</th>\n",
       "      <th>GOOG</th>\n",
       "    </tr>\n",
       "    <tr>\n",
       "      <th>Date</th>\n",
       "      <th></th>\n",
       "      <th></th>\n",
       "      <th></th>\n",
       "      <th></th>\n",
       "      <th></th>\n",
       "    </tr>\n",
       "  </thead>\n",
       "  <tbody>\n",
       "    <tr>\n",
       "      <th>2020-01-02 00:00:00-05:00</th>\n",
       "      <td>28.684000</td>\n",
       "      <td>94.900497</td>\n",
       "      <td>73.561531</td>\n",
       "      <td>329.809998</td>\n",
       "      <td>68.368500</td>\n",
       "    </tr>\n",
       "    <tr>\n",
       "      <th>2020-01-03 00:00:00-05:00</th>\n",
       "      <td>29.534000</td>\n",
       "      <td>93.748497</td>\n",
       "      <td>72.846375</td>\n",
       "      <td>325.899994</td>\n",
       "      <td>68.032997</td>\n",
       "    </tr>\n",
       "    <tr>\n",
       "      <th>2020-01-06 00:00:00-05:00</th>\n",
       "      <td>30.102667</td>\n",
       "      <td>95.143997</td>\n",
       "      <td>73.426819</td>\n",
       "      <td>335.829987</td>\n",
       "      <td>69.710503</td>\n",
       "    </tr>\n",
       "    <tr>\n",
       "      <th>2020-01-07 00:00:00-05:00</th>\n",
       "      <td>31.270666</td>\n",
       "      <td>95.343002</td>\n",
       "      <td>73.081490</td>\n",
       "      <td>330.750000</td>\n",
       "      <td>69.667000</td>\n",
       "    </tr>\n",
       "    <tr>\n",
       "      <th>2020-01-08 00:00:00-05:00</th>\n",
       "      <td>32.809334</td>\n",
       "      <td>94.598503</td>\n",
       "      <td>74.257095</td>\n",
       "      <td>339.260010</td>\n",
       "      <td>70.216003</td>\n",
       "    </tr>\n",
       "    <tr>\n",
       "      <th>...</th>\n",
       "      <td>...</td>\n",
       "      <td>...</td>\n",
       "      <td>...</td>\n",
       "      <td>...</td>\n",
       "      <td>...</td>\n",
       "    </tr>\n",
       "    <tr>\n",
       "      <th>2021-12-27 00:00:00-05:00</th>\n",
       "      <td>364.646667</td>\n",
       "      <td>169.669495</td>\n",
       "      <td>179.289444</td>\n",
       "      <td>613.119995</td>\n",
       "      <td>148.063995</td>\n",
       "    </tr>\n",
       "    <tr>\n",
       "      <th>2021-12-28 00:00:00-05:00</th>\n",
       "      <td>362.823334</td>\n",
       "      <td>170.660995</td>\n",
       "      <td>178.255447</td>\n",
       "      <td>610.710022</td>\n",
       "      <td>146.447998</td>\n",
       "    </tr>\n",
       "    <tr>\n",
       "      <th>2021-12-29 00:00:00-05:00</th>\n",
       "      <td>362.063324</td>\n",
       "      <td>169.201004</td>\n",
       "      <td>178.344925</td>\n",
       "      <td>610.539978</td>\n",
       "      <td>146.504501</td>\n",
       "    </tr>\n",
       "    <tr>\n",
       "      <th>2021-12-30 00:00:00-05:00</th>\n",
       "      <td>356.779999</td>\n",
       "      <td>168.644501</td>\n",
       "      <td>177.171722</td>\n",
       "      <td>612.090027</td>\n",
       "      <td>146.002502</td>\n",
       "    </tr>\n",
       "    <tr>\n",
       "      <th>2021-12-31 00:00:00-05:00</th>\n",
       "      <td>352.260010</td>\n",
       "      <td>166.716995</td>\n",
       "      <td>176.545380</td>\n",
       "      <td>602.440002</td>\n",
       "      <td>144.679504</td>\n",
       "    </tr>\n",
       "  </tbody>\n",
       "</table>\n",
       "<p>505 rows × 5 columns</p>\n",
       "</div>"
      ],
      "text/plain": [
       "                                 TSLA        AMZN        AAPL        NFLX  \\\n",
       "Date                                                                        \n",
       "2020-01-02 00:00:00-05:00   28.684000   94.900497   73.561531  329.809998   \n",
       "2020-01-03 00:00:00-05:00   29.534000   93.748497   72.846375  325.899994   \n",
       "2020-01-06 00:00:00-05:00   30.102667   95.143997   73.426819  335.829987   \n",
       "2020-01-07 00:00:00-05:00   31.270666   95.343002   73.081490  330.750000   \n",
       "2020-01-08 00:00:00-05:00   32.809334   94.598503   74.257095  339.260010   \n",
       "...                               ...         ...         ...         ...   \n",
       "2021-12-27 00:00:00-05:00  364.646667  169.669495  179.289444  613.119995   \n",
       "2021-12-28 00:00:00-05:00  362.823334  170.660995  178.255447  610.710022   \n",
       "2021-12-29 00:00:00-05:00  362.063324  169.201004  178.344925  610.539978   \n",
       "2021-12-30 00:00:00-05:00  356.779999  168.644501  177.171722  612.090027   \n",
       "2021-12-31 00:00:00-05:00  352.260010  166.716995  176.545380  602.440002   \n",
       "\n",
       "                                 GOOG  \n",
       "Date                                   \n",
       "2020-01-02 00:00:00-05:00   68.368500  \n",
       "2020-01-03 00:00:00-05:00   68.032997  \n",
       "2020-01-06 00:00:00-05:00   69.710503  \n",
       "2020-01-07 00:00:00-05:00   69.667000  \n",
       "2020-01-08 00:00:00-05:00   70.216003  \n",
       "...                               ...  \n",
       "2021-12-27 00:00:00-05:00  148.063995  \n",
       "2021-12-28 00:00:00-05:00  146.447998  \n",
       "2021-12-29 00:00:00-05:00  146.504501  \n",
       "2021-12-30 00:00:00-05:00  146.002502  \n",
       "2021-12-31 00:00:00-05:00  144.679504  \n",
       "\n",
       "[505 rows x 5 columns]"
      ]
     },
     "execution_count": 7,
     "metadata": {},
     "output_type": "execute_result"
    }
   ],
   "source": [
    "df"
   ]
  },
  {
   "cell_type": "code",
   "execution_count": 8,
   "id": "f20778f3",
   "metadata": {},
   "outputs": [
    {
     "data": {
      "text/plain": [
       "<AxesSubplot:xlabel='Date'>"
      ]
     },
     "execution_count": 8,
     "metadata": {},
     "output_type": "execute_result"
    },
    {
     "data": {
      "image/png": "[encoded data removed]",
      "text/plain": [
       "<Figure size 432x288 with 1 Axes>"
      ]
     },
     "metadata": {
      "needs_background": "light"
     },
     "output_type": "display_data"
    }
   ],
   "source": [
    "df.plot()"
   ]
  },
  {
   "cell_type": "code",
   "execution_count": 9,
   "id": "51877131",
   "metadata": {
    "scrolled": true
   },
   "outputs": [
    {
     "data": {
      "text/html": [
       "<div>\n",
       "<style scoped>\n",
       "    .dataframe tbody tr th:only-of-type {\n",
       "        vertical-align: middle;\n",
       "    }\n",
       "\n",
       "    .dataframe tbody tr th {\n",
       "        vertical-align: top;\n",
       "    }\n",
       "\n",
       "    .dataframe thead th {\n",
       "        text-align: right;\n",
       "    }\n",
       "</style>\n",
       "<table border=\"1\" class=\"dataframe\">\n",
       "  <thead>\n",
       "    <tr style=\"text-align: right;\">\n",
       "      <th></th>\n",
       "      <th>TSLA</th>\n",
       "      <th>AMZN</th>\n",
       "      <th>AAPL</th>\n",
       "      <th>NFLX</th>\n",
       "      <th>GOOG</th>\n",
       "    </tr>\n",
       "    <tr>\n",
       "      <th>Date</th>\n",
       "      <th></th>\n",
       "      <th></th>\n",
       "      <th></th>\n",
       "      <th></th>\n",
       "      <th></th>\n",
       "    </tr>\n",
       "  </thead>\n",
       "  <tbody>\n",
       "    <tr>\n",
       "      <th>2020-01-03 00:00:00-05:00</th>\n",
       "      <td>0.029633</td>\n",
       "      <td>-0.012139</td>\n",
       "      <td>-0.009722</td>\n",
       "      <td>-0.011855</td>\n",
       "      <td>-0.004907</td>\n",
       "    </tr>\n",
       "    <tr>\n",
       "      <th>2020-01-06 00:00:00-05:00</th>\n",
       "      <td>0.019255</td>\n",
       "      <td>0.014886</td>\n",
       "      <td>0.007968</td>\n",
       "      <td>0.030469</td>\n",
       "      <td>0.024657</td>\n",
       "    </tr>\n",
       "    <tr>\n",
       "      <th>2020-01-07 00:00:00-05:00</th>\n",
       "      <td>0.038801</td>\n",
       "      <td>0.002092</td>\n",
       "      <td>-0.004703</td>\n",
       "      <td>-0.015127</td>\n",
       "      <td>-0.000624</td>\n",
       "    </tr>\n",
       "    <tr>\n",
       "      <th>2020-01-08 00:00:00-05:00</th>\n",
       "      <td>0.049205</td>\n",
       "      <td>-0.007809</td>\n",
       "      <td>0.016086</td>\n",
       "      <td>0.025729</td>\n",
       "      <td>0.007880</td>\n",
       "    </tr>\n",
       "    <tr>\n",
       "      <th>2020-01-09 00:00:00-05:00</th>\n",
       "      <td>-0.021945</td>\n",
       "      <td>0.004799</td>\n",
       "      <td>0.021241</td>\n",
       "      <td>-0.010611</td>\n",
       "      <td>0.011044</td>\n",
       "    </tr>\n",
       "    <tr>\n",
       "      <th>...</th>\n",
       "      <td>...</td>\n",
       "      <td>...</td>\n",
       "      <td>...</td>\n",
       "      <td>...</td>\n",
       "      <td>...</td>\n",
       "    </tr>\n",
       "    <tr>\n",
       "      <th>2021-12-27 00:00:00-05:00</th>\n",
       "      <td>0.025248</td>\n",
       "      <td>-0.008178</td>\n",
       "      <td>0.022975</td>\n",
       "      <td>-0.001580</td>\n",
       "      <td>0.006263</td>\n",
       "    </tr>\n",
       "    <tr>\n",
       "      <th>2021-12-28 00:00:00-05:00</th>\n",
       "      <td>-0.005000</td>\n",
       "      <td>0.005844</td>\n",
       "      <td>-0.005767</td>\n",
       "      <td>-0.003931</td>\n",
       "      <td>-0.010914</td>\n",
       "    </tr>\n",
       "    <tr>\n",
       "      <th>2021-12-29 00:00:00-05:00</th>\n",
       "      <td>-0.002095</td>\n",
       "      <td>-0.008555</td>\n",
       "      <td>0.000502</td>\n",
       "      <td>-0.000278</td>\n",
       "      <td>0.000386</td>\n",
       "    </tr>\n",
       "    <tr>\n",
       "      <th>2021-12-30 00:00:00-05:00</th>\n",
       "      <td>-0.014592</td>\n",
       "      <td>-0.003289</td>\n",
       "      <td>-0.006578</td>\n",
       "      <td>0.002539</td>\n",
       "      <td>-0.003427</td>\n",
       "    </tr>\n",
       "    <tr>\n",
       "      <th>2021-12-31 00:00:00-05:00</th>\n",
       "      <td>-0.012669</td>\n",
       "      <td>-0.011429</td>\n",
       "      <td>-0.003535</td>\n",
       "      <td>-0.015766</td>\n",
       "      <td>-0.009061</td>\n",
       "    </tr>\n",
       "  </tbody>\n",
       "</table>\n",
       "<p>504 rows × 5 columns</p>\n",
       "</div>"
      ],
      "text/plain": [
       "                               TSLA      AMZN      AAPL      NFLX      GOOG\n",
       "Date                                                                       \n",
       "2020-01-03 00:00:00-05:00  0.029633 -0.012139 -0.009722 -0.011855 -0.004907\n",
       "2020-01-06 00:00:00-05:00  0.019255  0.014886  0.007968  0.030469  0.024657\n",
       "2020-01-07 00:00:00-05:00  0.038801  0.002092 -0.004703 -0.015127 -0.000624\n",
       "2020-01-08 00:00:00-05:00  0.049205 -0.007809  0.016086  0.025729  0.007880\n",
       "2020-01-09 00:00:00-05:00 -0.021945  0.004799  0.021241 -0.010611  0.011044\n",
       "...                             ...       ...       ...       ...       ...\n",
       "2021-12-27 00:00:00-05:00  0.025248 -0.008178  0.022975 -0.001580  0.006263\n",
       "2021-12-28 00:00:00-05:00 -0.005000  0.005844 -0.005767 -0.003931 -0.010914\n",
       "2021-12-29 00:00:00-05:00 -0.002095 -0.008555  0.000502 -0.000278  0.000386\n",
       "2021-12-30 00:00:00-05:00 -0.014592 -0.003289 -0.006578  0.002539 -0.003427\n",
       "2021-12-31 00:00:00-05:00 -0.012669 -0.011429 -0.003535 -0.015766 -0.009061\n",
       "\n",
       "[504 rows x 5 columns]"
      ]
     },
     "execution_count": 9,
     "metadata": {},
     "output_type": "execute_result"
    }
   ],
   "source": [
    "daily_returns = df.pct_change().dropna()\n",
    "daily_returns"
   ]
  },
  {
   "cell_type": "markdown",
   "id": "1370187d",
   "metadata": {},
   "source": [
    "<h3> Q1 Constrained QUBO"
   ]
  },
  {
   "cell_type": "code",
   "execution_count": 10,
   "id": "67870065",
   "metadata": {},
   "outputs": [
    {
     "data": {
      "text/plain": [
       "TSLA    1.532392\n",
       "AMZN    0.333350\n",
       "AAPL    0.508189\n",
       "NFLX    0.379790\n",
       "GOOG    0.425778\n",
       "dtype: float64"
      ]
     },
     "execution_count": 10,
     "metadata": {},
     "output_type": "execute_result"
    }
   ],
   "source": [
    "mu = daily_returns.mean() * 252\n",
    "mu"
   ]
  },
  {
   "cell_type": "code",
   "execution_count": 11,
   "id": "3f5d6dc7",
   "metadata": {},
   "outputs": [
    {
     "data": {
      "text/html": [
       "<div>\n",
       "<style scoped>\n",
       "    .dataframe tbody tr th:only-of-type {\n",
       "        vertical-align: middle;\n",
       "    }\n",
       "\n",
       "    .dataframe tbody tr th {\n",
       "        vertical-align: top;\n",
       "    }\n",
       "\n",
       "    .dataframe thead th {\n",
       "        text-align: right;\n",
       "    }\n",
       "</style>\n",
       "<table border=\"1\" class=\"dataframe\">\n",
       "  <thead>\n",
       "    <tr style=\"text-align: right;\">\n",
       "      <th></th>\n",
       "      <th>TSLA</th>\n",
       "      <th>AMZN</th>\n",
       "      <th>AAPL</th>\n",
       "      <th>NFLX</th>\n",
       "      <th>GOOG</th>\n",
       "    </tr>\n",
       "  </thead>\n",
       "  <tbody>\n",
       "    <tr>\n",
       "      <th>TSLA</th>\n",
       "      <td>0.552818</td>\n",
       "      <td>0.101450</td>\n",
       "      <td>0.129907</td>\n",
       "      <td>0.109659</td>\n",
       "      <td>0.095602</td>\n",
       "    </tr>\n",
       "    <tr>\n",
       "      <th>AMZN</th>\n",
       "      <td>0.101450</td>\n",
       "      <td>0.103287</td>\n",
       "      <td>0.080707</td>\n",
       "      <td>0.078037</td>\n",
       "      <td>0.066768</td>\n",
       "    </tr>\n",
       "    <tr>\n",
       "      <th>AAPL</th>\n",
       "      <td>0.129907</td>\n",
       "      <td>0.080707</td>\n",
       "      <td>0.140395</td>\n",
       "      <td>0.076669</td>\n",
       "      <td>0.083340</td>\n",
       "    </tr>\n",
       "    <tr>\n",
       "      <th>NFLX</th>\n",
       "      <td>0.109659</td>\n",
       "      <td>0.078037</td>\n",
       "      <td>0.076669</td>\n",
       "      <td>0.158227</td>\n",
       "      <td>0.063968</td>\n",
       "    </tr>\n",
       "    <tr>\n",
       "      <th>GOOG</th>\n",
       "      <td>0.095602</td>\n",
       "      <td>0.066768</td>\n",
       "      <td>0.083340</td>\n",
       "      <td>0.063968</td>\n",
       "      <td>0.101440</td>\n",
       "    </tr>\n",
       "  </tbody>\n",
       "</table>\n",
       "</div>"
      ],
      "text/plain": [
       "          TSLA      AMZN      AAPL      NFLX      GOOG\n",
       "TSLA  0.552818  0.101450  0.129907  0.109659  0.095602\n",
       "AMZN  0.101450  0.103287  0.080707  0.078037  0.066768\n",
       "AAPL  0.129907  0.080707  0.140395  0.076669  0.083340\n",
       "NFLX  0.109659  0.078037  0.076669  0.158227  0.063968\n",
       "GOOG  0.095602  0.066768  0.083340  0.063968  0.101440"
      ]
     },
     "execution_count": 11,
     "metadata": {},
     "output_type": "execute_result"
    }
   ],
   "source": [
    "cov = daily_returns.cov() * 252\n",
    "cov"
   ]
  },
  {
   "cell_type": "markdown",
   "id": "0aa7bea7",
   "metadata": {},
   "source": [
    "According to MPT, "
   ]
  },
  {
   "cell_type": "markdown",
   "id": "07529e58",
   "metadata": {},
   "source": [
    "$$\\min_{\\vec{x}}\\,\\, -x^{T}\\mu + \\frac{\\gamma}{2} x^T \\Sigma x$$"
   ]
  },
  {
   "cell_type": "code",
   "execution_count": 12,
   "id": "8cd6cab8",
   "metadata": {},
   "outputs": [
    {
     "data": {
      "text/plain": [
       "TSLA    1.532392\n",
       "AMZN    0.333350\n",
       "AAPL    0.508189\n",
       "NFLX    0.379790\n",
       "GOOG    0.425778\n",
       "dtype: float64"
      ]
     },
     "execution_count": 12,
     "metadata": {},
     "output_type": "execute_result"
    }
   ],
   "source": [
    "mu"
   ]
  },
  {
   "cell_type": "code",
   "execution_count": 13,
   "id": "a9a2c6bd",
   "metadata": {
    "scrolled": false
   },
   "outputs": [
    {
     "data": {
      "text/plain": [
       "array([[1.53239232, 0.        , 0.        , 0.        , 0.        ],\n",
       "       [0.        , 0.33335037, 0.        , 0.        , 0.        ],\n",
       "       [0.        , 0.        , 0.50818944, 0.        , 0.        ],\n",
       "       [0.        , 0.        , 0.        , 0.3797901 , 0.        ],\n",
       "       [0.        , 0.        , 0.        , 0.        , 0.42577824]])"
      ]
     },
     "execution_count": 13,
     "metadata": {},
     "output_type": "execute_result"
    }
   ],
   "source": [
    "np.diag(mu)"
   ]
  },
  {
   "cell_type": "markdown",
   "id": "9ac97129",
   "metadata": {},
   "source": [
    "Considering the $L^1$ norm of $x$ vector to be 3 that is,\n",
    "\n",
    "$$\\sum_{i=0}^4 |x_i|=3$$\n",
    "\n",
    "The associated constraint should be,\n",
    "\n",
    "$$C=\\min_x\\left(\\sum_{i=0}^4 x_i-3\\right)^2=\\min_x x^T(J_5-2\\cdot 3I_5)x$$\n",
    "\n",
    "where $J_5$ is a $5\\times 5$ matrix with all element 1. I'm not considering the absolute value of $x_i$ because $x_i\\in\\{0,1\\}$."
   ]
  },
  {
   "cell_type": "code",
   "execution_count": 14,
   "id": "b85faa4c",
   "metadata": {},
   "outputs": [
    {
     "data": {
      "text/plain": [
       "array([[-5.,  1.,  1.,  1.,  1.],\n",
       "       [ 1., -5.,  1.,  1.,  1.],\n",
       "       [ 1.,  1., -5.,  1.,  1.],\n",
       "       [ 1.,  1.,  1., -5.,  1.],\n",
       "       [ 1.,  1.,  1.,  1., -5.]])"
      ]
     },
     "execution_count": 14,
     "metadata": {},
     "output_type": "execute_result"
    }
   ],
   "source": [
    "Jn=np.ones((5,5))\n",
    "In=np.identity(5)\n",
    "C=Jn-2*3*In\n",
    "C"
   ]
  },
  {
   "cell_type": "code",
   "execution_count": 15,
   "id": "248646fe",
   "metadata": {},
   "outputs": [
    {
     "data": {
      "text/plain": [
       "array([[-6.25598324,  1.05072518,  1.06495328,  1.05482952,  1.04780118],\n",
       "       [ 1.05072518, -5.28170699,  1.04035328,  1.03901862,  1.03338399],\n",
       "       [ 1.06495328,  1.04035328, -5.437992  ,  1.03833462,  1.04166983],\n",
       "       [ 1.05482952,  1.03901862,  1.03833462, -5.30067645,  1.03198419],\n",
       "       [ 1.04780118,  1.03338399,  1.04166983,  1.03198419, -5.37505837]])"
      ]
     },
     "execution_count": 15,
     "metadata": {},
     "output_type": "execute_result"
    }
   ],
   "source": [
    "gamma = 1  #risk aversion parameter\n",
    "qubo = -1*np.diag(mu) + (gamma/2)*np.array(cov) + C\n",
    "qubo"
   ]
  },
  {
   "cell_type": "markdown",
   "id": "dcdf607b",
   "metadata": {},
   "source": [
    "<h3> Q1 Brute force solution"
   ]
  },
  {
   "cell_type": "code",
   "execution_count": 16,
   "id": "02fb5dc3",
   "metadata": {},
   "outputs": [
    {
     "data": {
      "text/plain": [
       "5"
      ]
     },
     "execution_count": 16,
     "metadata": {},
     "output_type": "execute_result"
    }
   ],
   "source": [
    "n = qubo.shape[0]\n",
    "n"
   ]
  },
  {
   "cell_type": "code",
   "execution_count": 17,
   "id": "2af49a05",
   "metadata": {},
   "outputs": [],
   "source": [
    "states = list(product([0,1],repeat = n))"
   ]
  },
  {
   "cell_type": "code",
   "execution_count": 18,
   "id": "63f9bb7d",
   "metadata": {},
   "outputs": [
    {
     "name": "stdout",
     "output_type": "stream",
     "text": [
      "\t State \t\t\t Cost\n",
      " [[0 0 0 0 0]] \t 0.0\n",
      " [[0 0 0 0 1]] \t -5.375058367325562\n",
      " [[0 0 0 1 0]] \t -5.3006764548764504\n",
      " [[0 0 0 1 1]] \t -8.611766448970048\n",
      " [[0 0 1 0 0]] \t -5.437991997799747\n",
      " [[0 0 1 0 1]] \t -8.729710699732262\n",
      " [[0 0 1 1 0]] \t -8.661999205416324\n",
      " [[0 0 1 1 1]] \t -9.889749534116874\n",
      " [[0 1 0 0 0]] \t -5.281706992075487\n",
      " [[0 1 0 0 1]] \t -8.589997370367604\n",
      " [[0 1 0 1 0]] \t -8.504346212688514\n",
      " [[0 1 0 1 1]] \t -9.748668217748666\n",
      " [[0 1 1 0 0]] \t -8.638992424398975\n",
      " [[0 1 1 0 1]] \t -9.863943137298044\n",
      " [[0 1 1 1 0]] \t -9.784962397752128\n",
      " [[0 1 1 1 1]] \t -8.94594473741923\n",
      " [[1 0 0 0 0]] \t -6.255983239505218\n",
      " [[1 0 0 0 1]] \t -9.535439251835923\n",
      " [[1 0 0 1 0]] \t -9.447000664011497\n",
      " [[1 0 0 1 1]] \t -10.662488303110237\n",
      " [[1 0 1 0 0]] \t -9.564068672199573\n",
      " [[1 0 1 0 1]] \t -10.760185019137232\n",
      " [[1 0 1 1 0]] \t -10.678416849445977\n",
      " [[1 0 1 1 1]] \t -9.810564823151669\n",
      " [[1 1 0 0 0]] \t -9.436239862067595\n",
      " [[1 1 0 0 1]] \t -10.648927885364856\n",
      " [[1 1 0 1 0]] \t -10.549220052310451\n",
      " [[1 1 0 1 1]] \t -9.697939702375743\n",
      " [[1 1 1 0 0]] \t -10.663618729285691\n",
      " [[1 1 1 0 1]] \t -9.792967087189904\n",
      " [[1 1 1 1 0]] \t -9.699929672268672\n",
      " [[1 1 1 1 1]] \t -6.765309656940919\n",
      "Best state: [[1 0 1 0 1]] \t, cost: -10.760185019137232\n"
     ]
    }
   ],
   "source": [
    "print(f'\\t State \\t\\t\\t Cost')\n",
    "best_cost = 0\n",
    "for state in states:\n",
    "    state = np.array(state).reshape(1,n)\n",
    "    cost = float(state@qubo@state.T)\n",
    "    print(f' {state} \\t {cost}')\n",
    "    \n",
    "    if cost < best_cost:\n",
    "        best_cost = cost\n",
    "        best_state = state\n",
    "\n",
    "print(f'Best state: {best_state} \\t, cost: {best_cost}')"
   ]
  },
  {
   "cell_type": "markdown",
   "id": "865c8bcb",
   "metadata": {},
   "source": [
    "<h3> Q1 Annealer Solution"
   ]
  },
  {
   "cell_type": "code",
   "execution_count": 19,
   "id": "de3c3846",
   "metadata": {},
   "outputs": [
    {
     "name": "stdout",
     "output_type": "stream",
     "text": [
      "\n",
      "Please wait, while the Quantum engine is running....\n"
     ]
    }
   ],
   "source": [
    "solution_dwave_q = annealer_solver(qubo, backend='Quantum')"
   ]
  },
  {
   "cell_type": "code",
   "execution_count": 20,
   "id": "280e0c15",
   "metadata": {},
   "outputs": [
    {
     "data": {
      "text/plain": [
       "[1, 0, 1, 0, 1]"
      ]
     },
     "execution_count": 20,
     "metadata": {},
     "output_type": "execute_result"
    }
   ],
   "source": [
    "solution_dwave_q "
   ]
  },
  {
   "cell_type": "markdown",
   "id": "bff762df",
   "metadata": {},
   "source": [
    "<h3> Q2 MPT Weight Calculation"
   ]
  },
  {
   "cell_type": "code",
   "execution_count": 21,
   "id": "c3907f3c",
   "metadata": {},
   "outputs": [
    {
     "name": "stdout",
     "output_type": "stream",
     "text": [
      "OrderedDict([('TSLA', 0.5674), ('AMZN', 0.0), ('AAPL', 0.10522), ('NFLX', 0.0), ('GOOG', 0.32737)])\n"
     ]
    }
   ],
   "source": [
    "from pypfopt import EfficientFrontier\n",
    "ef = EfficientFrontier(mu, cov)\n",
    "#ef.max_sharpe(risk_free_rate=0.02)\n",
    "ef.max_sharpe()\n",
    "weights = ef.clean_weights()\n",
    "print(weights)"
   ]
  },
  {
   "cell_type": "markdown",
   "id": "a9796732",
   "metadata": {},
   "source": [
    "<h3> Q3(i) Fractional Binary Encoding"
   ]
  },
  {
   "cell_type": "markdown",
   "id": "94c348e0",
   "metadata": {},
   "source": [
    "To do this encoding consider a basis transformation such that the weight vector transforms to,\n",
    "\n",
    "$$\\mathbf{w}^T_{1\\times 5}=\\mathbf{x}^T_{1\\times 15}\\mathbf{M}_{15\\times 5}$$\n",
    "\n",
    "where $x_i\\in\\{0,1\\}$. For the quadratic term we shall have the transformation,\n",
    "\n",
    "$$w^T\\Sigma w\\to x^TM\\Sigma M^Tx$$\n",
    "\n",
    "For linear term we shall have transformation,\n",
    "\n",
    "$$w^T\\mu\\to x^TM\\mu$$\n",
    "\n",
    "This shall apply both to the original cost function terms and the constraint terms discussed above. The form of $M$ can be understood using the fact that,\n",
    "\n",
    "$$w_i=\\sum_{j=0}^{n-1}x_{ij}\\alpha_j$$\n",
    "\n",
    "where $n$ is the number of bit used and $\\alpha_j$ are the encoding weights and taking $i$ running from 0 to $m-1$. We can consider shifting the index $i$ from $x$ to $\\alpha$ and increase the number of elements. But to do that we need to take into consideration all the $m$ weights giving us $n\\times m$ bit vector with $j$ running from 0 to $n\\times m-1$ now. In that case $\\alpha_{ij}\\neq 0\\,\\forall\\, 0\\leq (j-ni)\\leq n-1$."
   ]
  },
  {
   "cell_type": "code",
   "execution_count": 22,
   "id": "17a2a16e",
   "metadata": {
    "scrolled": true
   },
   "outputs": [
    {
     "data": {
      "text/plain": [
       "array([[0.125, 0.   , 0.   , 0.   , 0.   ],\n",
       "       [0.25 , 0.   , 0.   , 0.   , 0.   ],\n",
       "       [0.5  , 0.   , 0.   , 0.   , 0.   ],\n",
       "       [0.   , 0.125, 0.   , 0.   , 0.   ],\n",
       "       [0.   , 0.25 , 0.   , 0.   , 0.   ],\n",
       "       [0.   , 0.5  , 0.   , 0.   , 0.   ],\n",
       "       [0.   , 0.   , 0.125, 0.   , 0.   ],\n",
       "       [0.   , 0.   , 0.25 , 0.   , 0.   ],\n",
       "       [0.   , 0.   , 0.5  , 0.   , 0.   ],\n",
       "       [0.   , 0.   , 0.   , 0.125, 0.   ],\n",
       "       [0.   , 0.   , 0.   , 0.25 , 0.   ],\n",
       "       [0.   , 0.   , 0.   , 0.5  , 0.   ],\n",
       "       [0.   , 0.   , 0.   , 0.   , 0.125],\n",
       "       [0.   , 0.   , 0.   , 0.   , 0.25 ],\n",
       "       [0.   , 0.   , 0.   , 0.   , 0.5  ]])"
      ]
     },
     "execution_count": 22,
     "metadata": {},
     "output_type": "execute_result"
    }
   ],
   "source": [
    "enc_frac = np.array([(0.5)**3,(0.5)**2,(0.5)**1])\n",
    "trans_mat1 = np.tensordot(np.identity(5), enc_frac, axes=0)\n",
    "trans_mat1 = np.transpose(trans_mat1,(1, 2, 0)).reshape(15,5)\n",
    "In1 = np.diag(trans_mat1@[1,1,1,1,1])\n",
    "trans_mat1"
   ]
  },
  {
   "cell_type": "code",
   "execution_count": 23,
   "id": "5074c491",
   "metadata": {},
   "outputs": [
    {
     "data": {
      "text/plain": [
       "array([[-0.203125,  0.03125 ,  0.0625  ,  0.015625,  0.03125 ,  0.0625  ,\n",
       "         0.015625,  0.03125 ,  0.0625  ,  0.015625,  0.03125 ,  0.0625  ,\n",
       "         0.015625,  0.03125 ,  0.0625  ],\n",
       "       [ 0.03125 , -0.375   ,  0.125   ,  0.03125 ,  0.0625  ,  0.125   ,\n",
       "         0.03125 ,  0.0625  ,  0.125   ,  0.03125 ,  0.0625  ,  0.125   ,\n",
       "         0.03125 ,  0.0625  ,  0.125   ],\n",
       "       [ 0.0625  ,  0.125   , -0.625   ,  0.0625  ,  0.125   ,  0.25    ,\n",
       "         0.0625  ,  0.125   ,  0.25    ,  0.0625  ,  0.125   ,  0.25    ,\n",
       "         0.0625  ,  0.125   ,  0.25    ],\n",
       "       [ 0.015625,  0.03125 ,  0.0625  , -0.203125,  0.03125 ,  0.0625  ,\n",
       "         0.015625,  0.03125 ,  0.0625  ,  0.015625,  0.03125 ,  0.0625  ,\n",
       "         0.015625,  0.03125 ,  0.0625  ],\n",
       "       [ 0.03125 ,  0.0625  ,  0.125   ,  0.03125 , -0.375   ,  0.125   ,\n",
       "         0.03125 ,  0.0625  ,  0.125   ,  0.03125 ,  0.0625  ,  0.125   ,\n",
       "         0.03125 ,  0.0625  ,  0.125   ],\n",
       "       [ 0.0625  ,  0.125   ,  0.25    ,  0.0625  ,  0.125   , -0.625   ,\n",
       "         0.0625  ,  0.125   ,  0.25    ,  0.0625  ,  0.125   ,  0.25    ,\n",
       "         0.0625  ,  0.125   ,  0.25    ],\n",
       "       [ 0.015625,  0.03125 ,  0.0625  ,  0.015625,  0.03125 ,  0.0625  ,\n",
       "        -0.203125,  0.03125 ,  0.0625  ,  0.015625,  0.03125 ,  0.0625  ,\n",
       "         0.015625,  0.03125 ,  0.0625  ],\n",
       "       [ 0.03125 ,  0.0625  ,  0.125   ,  0.03125 ,  0.0625  ,  0.125   ,\n",
       "         0.03125 , -0.375   ,  0.125   ,  0.03125 ,  0.0625  ,  0.125   ,\n",
       "         0.03125 ,  0.0625  ,  0.125   ],\n",
       "       [ 0.0625  ,  0.125   ,  0.25    ,  0.0625  ,  0.125   ,  0.25    ,\n",
       "         0.0625  ,  0.125   , -0.625   ,  0.0625  ,  0.125   ,  0.25    ,\n",
       "         0.0625  ,  0.125   ,  0.25    ],\n",
       "       [ 0.015625,  0.03125 ,  0.0625  ,  0.015625,  0.03125 ,  0.0625  ,\n",
       "         0.015625,  0.03125 ,  0.0625  , -0.203125,  0.03125 ,  0.0625  ,\n",
       "         0.015625,  0.03125 ,  0.0625  ],\n",
       "       [ 0.03125 ,  0.0625  ,  0.125   ,  0.03125 ,  0.0625  ,  0.125   ,\n",
       "         0.03125 ,  0.0625  ,  0.125   ,  0.03125 , -0.375   ,  0.125   ,\n",
       "         0.03125 ,  0.0625  ,  0.125   ],\n",
       "       [ 0.0625  ,  0.125   ,  0.25    ,  0.0625  ,  0.125   ,  0.25    ,\n",
       "         0.0625  ,  0.125   ,  0.25    ,  0.0625  ,  0.125   , -0.625   ,\n",
       "         0.0625  ,  0.125   ,  0.25    ],\n",
       "       [ 0.015625,  0.03125 ,  0.0625  ,  0.015625,  0.03125 ,  0.0625  ,\n",
       "         0.015625,  0.03125 ,  0.0625  ,  0.015625,  0.03125 ,  0.0625  ,\n",
       "        -0.203125,  0.03125 ,  0.0625  ],\n",
       "       [ 0.03125 ,  0.0625  ,  0.125   ,  0.03125 ,  0.0625  ,  0.125   ,\n",
       "         0.03125 ,  0.0625  ,  0.125   ,  0.03125 ,  0.0625  ,  0.125   ,\n",
       "         0.03125 , -0.375   ,  0.125   ],\n",
       "       [ 0.0625  ,  0.125   ,  0.25    ,  0.0625  ,  0.125   ,  0.25    ,\n",
       "         0.0625  ,  0.125   ,  0.25    ,  0.0625  ,  0.125   ,  0.25    ,\n",
       "         0.0625  ,  0.125   , -0.625   ]])"
      ]
     },
     "execution_count": 23,
     "metadata": {},
     "output_type": "execute_result"
    }
   ],
   "source": [
    "C1=trans_mat1@Jn@trans_mat1.T-2*0.875*In1 \n",
    "# 0.875 is considered instead of 1 because there seem to be an offset of 0.125 when the weights are added.\n",
    "# While I am not sure what is causing this offset, provided that the code is correct,\n",
    "# it might have something to do with the lowest non-zero value of the sum of all unconstrained weights being 0.125.\n",
    "C1"
   ]
  },
  {
   "cell_type": "code",
   "execution_count": 24,
   "id": "e44c2503",
   "metadata": {
    "scrolled": true
   },
   "outputs": [
    {
     "data": {
      "text/plain": [
       "array([[-0.39035515,  0.03988778,  0.07977557,  0.01641758,  0.03283516,\n",
       "         0.06567032,  0.0166399 ,  0.03327979,  0.06655958,  0.01648171,\n",
       "         0.03296342,  0.06592684,  0.01637189,  0.03274379,  0.06548757],\n",
       "       [ 0.03988778, -0.74082251,  0.15955113,  0.03283516,  0.06567032,\n",
       "         0.13134065,  0.03327979,  0.06655958,  0.13311916,  0.03296342,\n",
       "         0.06592684,  0.13185369,  0.03274379,  0.06548757,  0.13097515],\n",
       "       [ 0.07977557,  0.15955113, -1.32209389,  0.06567032,  0.13134065,\n",
       "         0.2626813 ,  0.06655958,  0.13311916,  0.26623832,  0.06592684,\n",
       "         0.13185369,  0.26370738,  0.06548757,  0.13097515,  0.26195029],\n",
       "       [ 0.01641758,  0.03283516,  0.06567032, -0.24398687,  0.03286386,\n",
       "         0.06572771,  0.01625552,  0.03251104,  0.06502208,  0.01623467,\n",
       "         0.03246933,  0.06493866,  0.01614662,  0.03229325,  0.0645865 ],\n",
       "       [ 0.03283516,  0.06567032,  0.13134065,  0.03286386, -0.45510988,\n",
       "         0.13145542,  0.03251104,  0.06502208,  0.13004416,  0.03246933,\n",
       "         0.06493866,  0.12987733,  0.03229325,  0.0645865 ,  0.129173  ],\n",
       "       [ 0.06567032,  0.13134065,  0.2626813 ,  0.06572771,  0.13145542,\n",
       "        -0.77876434,  0.06502208,  0.13004416,  0.26008832,  0.06493866,\n",
       "         0.12987733,  0.25975465,  0.0645865 ,  0.129173  ,  0.258346  ],\n",
       "       [ 0.0166399 ,  0.03327979,  0.06655958,  0.01625552,  0.03251104,\n",
       "         0.06502208, -0.26555184,  0.03344367,  0.06688734,  0.01622398,\n",
       "         0.03244796,  0.06489591,  0.01627609,  0.03255218,  0.06510436],\n",
       "       [ 0.03327979,  0.06655958,  0.13311916,  0.03251104,  0.06502208,\n",
       "         0.13004416,  0.03344367, -0.49766002,  0.13377468,  0.03244796,\n",
       "         0.06489591,  0.12979183,  0.03255218,  0.06510436,  0.13020873],\n",
       "       [ 0.06655958,  0.13311916,  0.26623832,  0.06502208,  0.13004416,\n",
       "         0.26008832,  0.06688734,  0.13377468, -0.86154536,  0.06489591,\n",
       "         0.12979183,  0.25958366,  0.06510436,  0.13020873,  0.26041746],\n",
       "       [ 0.01648171,  0.03296342,  0.06592684,  0.01623467,  0.03246933,\n",
       "         0.06493866,  0.01622398,  0.03244796,  0.06489591, -0.24936261,\n",
       "         0.0337223 ,  0.0674446 ,  0.01612475,  0.03224951,  0.06449901],\n",
       "       [ 0.03296342,  0.06592684,  0.13185369,  0.03246933,  0.06493866,\n",
       "         0.12987733,  0.03244796,  0.06489591,  0.12979183,  0.0337223 ,\n",
       "        -0.46500292,  0.13488921,  0.03224951,  0.06449901,  0.12899802],\n",
       "       [ 0.06592684,  0.13185369,  0.26370738,  0.06493866,  0.12987733,\n",
       "         0.25975465,  0.06489591,  0.12979183,  0.25958366,  0.0674446 ,\n",
       "         0.13488921, -0.79511664,  0.06449901,  0.12899802,  0.25799605],\n",
       "       [ 0.01637189,  0.03274379,  0.06548757,  0.01614662,  0.03229325,\n",
       "         0.0645865 ,  0.01627609,  0.03255218,  0.06510436,  0.01612475,\n",
       "         0.03224951,  0.06449901, -0.25555478,  0.032835  ,  0.06566999],\n",
       "       [ 0.03274379,  0.06548757,  0.13097515,  0.03229325,  0.0645865 ,\n",
       "         0.129173  ,  0.03255218,  0.06510436,  0.13020873,  0.03224951,\n",
       "         0.06449901,  0.12899802,  0.032835  , -0.47827457,  0.13133998],\n",
       "       [ 0.06548757,  0.13097515,  0.26195029,  0.0645865 ,  0.129173  ,\n",
       "         0.258346  ,  0.06510436,  0.13020873,  0.26041746,  0.06449901,\n",
       "         0.12899802,  0.25799605,  0.06566999,  0.13133998, -0.82520915]])"
      ]
     },
     "execution_count": 24,
     "metadata": {},
     "output_type": "execute_result"
    }
   ],
   "source": [
    "qubo1 = -1*np.diag(trans_mat1@mu) + (gamma/2)*trans_mat1@np.array(cov)@trans_mat1.T + C1\n",
    "qubo1"
   ]
  },
  {
   "cell_type": "code",
   "execution_count": 25,
   "id": "89f93bd3",
   "metadata": {
    "scrolled": false
   },
   "outputs": [
    {
     "name": "stdout",
     "output_type": "stream",
     "text": [
      "\n",
      "Please wait, while the Quantum engine is running....\n"
     ]
    }
   ],
   "source": [
    "solution_frac = annealer_solver(qubo1, backend='Quantum')"
   ]
  },
  {
   "cell_type": "code",
   "execution_count": 26,
   "id": "532daf46",
   "metadata": {
    "scrolled": true
   },
   "outputs": [
    {
     "data": {
      "text/plain": [
       "array([0.875, 0.   , 0.125, 0.   , 0.   ])"
      ]
     },
     "execution_count": 26,
     "metadata": {},
     "output_type": "execute_result"
    }
   ],
   "source": [
    "solution_frac@trans_mat1"
   ]
  },
  {
   "cell_type": "markdown",
   "id": "d4c45616",
   "metadata": {},
   "source": [
    "<h3> Q3 Integer Binary Encoding"
   ]
  },
  {
   "cell_type": "code",
   "execution_count": 27,
   "id": "21a63ec9",
   "metadata": {},
   "outputs": [
    {
     "data": {
      "text/plain": [
       "array([[1., 0., 0., 0., 0.],\n",
       "       [2., 0., 0., 0., 0.],\n",
       "       [4., 0., 0., 0., 0.],\n",
       "       [0., 1., 0., 0., 0.],\n",
       "       [0., 2., 0., 0., 0.],\n",
       "       [0., 4., 0., 0., 0.],\n",
       "       [0., 0., 1., 0., 0.],\n",
       "       [0., 0., 2., 0., 0.],\n",
       "       [0., 0., 4., 0., 0.],\n",
       "       [0., 0., 0., 1., 0.],\n",
       "       [0., 0., 0., 2., 0.],\n",
       "       [0., 0., 0., 4., 0.],\n",
       "       [0., 0., 0., 0., 1.],\n",
       "       [0., 0., 0., 0., 2.],\n",
       "       [0., 0., 0., 0., 4.]])"
      ]
     },
     "execution_count": 27,
     "metadata": {},
     "output_type": "execute_result"
    }
   ],
   "source": [
    "enc_int = np.array([1,2,4])\n",
    "trans_mat2 = np.tensordot(np.identity(5), enc_int, axes=0)\n",
    "trans_mat2 = np.transpose(trans_mat2,(1, 2, 0)).reshape(15,5)\n",
    "In2 = np.diag(trans_mat2@[1,1,1,1,1])\n",
    "trans_mat2"
   ]
  },
  {
   "cell_type": "code",
   "execution_count": 28,
   "id": "0621b329",
   "metadata": {},
   "outputs": [
    {
     "data": {
      "text/plain": [
       "array([[-19.,   2.,   4.,   1.,   2.,   4.,   1.,   2.,   4.,   1.,   2.,\n",
       "          4.,   1.,   2.,   4.],\n",
       "       [  2., -36.,   8.,   2.,   4.,   8.,   2.,   4.,   8.,   2.,   4.,\n",
       "          8.,   2.,   4.,   8.],\n",
       "       [  4.,   8., -64.,   4.,   8.,  16.,   4.,   8.,  16.,   4.,   8.,\n",
       "         16.,   4.,   8.,  16.],\n",
       "       [  1.,   2.,   4., -19.,   2.,   4.,   1.,   2.,   4.,   1.,   2.,\n",
       "          4.,   1.,   2.,   4.],\n",
       "       [  2.,   4.,   8.,   2., -36.,   8.,   2.,   4.,   8.,   2.,   4.,\n",
       "          8.,   2.,   4.,   8.],\n",
       "       [  4.,   8.,  16.,   4.,   8., -64.,   4.,   8.,  16.,   4.,   8.,\n",
       "         16.,   4.,   8.,  16.],\n",
       "       [  1.,   2.,   4.,   1.,   2.,   4., -19.,   2.,   4.,   1.,   2.,\n",
       "          4.,   1.,   2.,   4.],\n",
       "       [  2.,   4.,   8.,   2.,   4.,   8.,   2., -36.,   8.,   2.,   4.,\n",
       "          8.,   2.,   4.,   8.],\n",
       "       [  4.,   8.,  16.,   4.,   8.,  16.,   4.,   8., -64.,   4.,   8.,\n",
       "         16.,   4.,   8.,  16.],\n",
       "       [  1.,   2.,   4.,   1.,   2.,   4.,   1.,   2.,   4., -19.,   2.,\n",
       "          4.,   1.,   2.,   4.],\n",
       "       [  2.,   4.,   8.,   2.,   4.,   8.,   2.,   4.,   8.,   2., -36.,\n",
       "          8.,   2.,   4.,   8.],\n",
       "       [  4.,   8.,  16.,   4.,   8.,  16.,   4.,   8.,  16.,   4.,   8.,\n",
       "        -64.,   4.,   8.,  16.],\n",
       "       [  1.,   2.,   4.,   1.,   2.,   4.,   1.,   2.,   4.,   1.,   2.,\n",
       "          4., -19.,   2.,   4.],\n",
       "       [  2.,   4.,   8.,   2.,   4.,   8.,   2.,   4.,   8.,   2.,   4.,\n",
       "          8.,   2., -36.,   8.],\n",
       "       [  4.,   8.,  16.,   4.,   8.,  16.,   4.,   8.,  16.,   4.,   8.,\n",
       "         16.,   4.,   8., -64.]])"
      ]
     },
     "execution_count": 28,
     "metadata": {},
     "output_type": "execute_result"
    }
   ],
   "source": [
    "C2=trans_mat2@Jn@trans_mat2.T-2*10*In2\n",
    "\n",
    "C2"
   ]
  },
  {
   "cell_type": "code",
   "execution_count": 29,
   "id": "f5dbcd2c",
   "metadata": {},
   "outputs": [
    {
     "data": {
      "text/plain": [
       "array([[-20.25598324,   2.55281816,   5.10563632,   1.05072518,\n",
       "          2.10145037,   4.20290074,   1.06495328,   2.12990657,\n",
       "          4.25981313,   1.05482952,   2.10965903,   4.21931806,\n",
       "          1.04780118,   2.09560235,   4.19120471],\n",
       "       [  2.55281816, -37.95914832,  10.21127263,   2.10145037,\n",
       "          4.20290074,   8.40580148,   2.12990657,   4.25981313,\n",
       "          8.51962626,   2.10965903,   4.21931806,   8.43863612,\n",
       "          2.09560235,   4.19120471,   8.38240942],\n",
       "       [  5.10563632,  10.21127263, -65.70702401,   4.20290074,\n",
       "          8.40580148,  16.81160296,   4.25981313,   8.51962626,\n",
       "         17.03925252,   4.21931806,   8.43863612,  16.87727224,\n",
       "          4.19120471,   8.38240942,  16.76481884],\n",
       "       [  1.05072518,   2.10145037,   4.20290074, -19.28170699,\n",
       "          2.10328675,   4.2065735 ,   1.04035328,   2.08070657,\n",
       "          4.16141313,   1.03901862,   2.07803723,   4.15607447,\n",
       "          1.03338399,   2.06676799,   4.13353598],\n",
       "       [  2.10145037,   4.20290074,   8.40580148,   2.10328675,\n",
       "        -36.46012724,   8.41314699,   2.08070657,   4.16141313,\n",
       "          8.32282626,   2.07803723,   4.15607447,   8.31214894,\n",
       "          2.06676799,   4.13353598,   8.26707196],\n",
       "       [  4.20290074,   8.40580148,  16.81160296,   4.2065735 ,\n",
       "          8.41314699, -64.50710748,   4.16141313,   8.32282626,\n",
       "         16.64565252,   4.15607447,   8.31214894,  16.62429787,\n",
       "          4.13353598,   8.26707196,  16.53414391],\n",
       "       [  1.06495328,   2.12990657,   4.25981313,   1.04035328,\n",
       "          2.08070657,   4.16141313, -19.437992  ,   2.14039488,\n",
       "          4.28078976,   1.03833462,   2.07666925,   4.15333849,\n",
       "          1.04166983,   2.08333967,   4.16667933],\n",
       "       [  2.12990657,   4.25981313,   8.51962626,   2.08070657,\n",
       "          4.16141313,   8.32282626,   2.14039488, -36.73558911,\n",
       "          8.56157952,   2.07666925,   4.15333849,   8.30667699,\n",
       "          2.08333967,   4.16667933,   8.33335866],\n",
       "       [  4.25981313,   8.51962626,  17.03925252,   4.16141313,\n",
       "          8.32282626,  16.64565252,   4.28078976,   8.56157952,\n",
       "        -64.90959871,   4.15333849,   8.30667699,  16.61335398,\n",
       "          4.16667933,   8.33335866,  16.66671732],\n",
       "       [  1.05482952,   2.10965903,   4.21931806,   1.03901862,\n",
       "          2.07803723,   4.15607447,   1.03833462,   2.07666925,\n",
       "          4.15333849, -19.30067645,   2.15822728,   4.31645456,\n",
       "          1.03198419,   2.06396837,   4.12793675],\n",
       "       [  2.10965903,   4.21931806,   8.43863612,   2.07803723,\n",
       "          4.15607447,   8.31214894,   2.07666925,   4.15333849,\n",
       "          8.30667699,   2.15822728, -36.44312563,   8.63290912,\n",
       "          2.06396837,   4.12793675,   8.25587349],\n",
       "       [  4.21931806,   8.43863612,  16.87727224,   4.15607447,\n",
       "          8.31214894,  16.62429787,   4.15333849,   8.30667699,\n",
       "         16.61335398,   4.31645456,   8.63290912, -64.25334214,\n",
       "          4.12793675,   8.25587349,  16.51174699],\n",
       "       [  1.04780118,   2.09560235,   4.19120471,   1.03338399,\n",
       "          2.06676799,   4.13353598,   1.04166983,   2.08333967,\n",
       "          4.16667933,   1.03198419,   2.06396837,   4.12793675,\n",
       "        -19.37505837,   2.10143975,   4.2028795 ],\n",
       "       [  2.09560235,   4.19120471,   8.38240942,   2.06676799,\n",
       "          4.13353598,   8.26707196,   2.08333967,   4.16667933,\n",
       "          8.33335866,   2.06396837,   4.12793675,   8.25587349,\n",
       "          2.10143975, -36.64867698,   8.40575901],\n",
       "       [  4.19120471,   8.38240942,  16.76481884,   4.13353598,\n",
       "          8.26707196,  16.53414391,   4.16667933,   8.33335866,\n",
       "         16.66671732,   4.12793675,   8.25587349,  16.51174699,\n",
       "          4.2028795 ,   8.40575901, -64.89159496]])"
      ]
     },
     "execution_count": 29,
     "metadata": {},
     "output_type": "execute_result"
    }
   ],
   "source": [
    "qubo2 = -1*np.diag(trans_mat2@mu) + (gamma/2)*trans_mat2@np.array(cov)@trans_mat2.T + C2\n",
    "qubo2"
   ]
  },
  {
   "cell_type": "code",
   "execution_count": 30,
   "id": "c6a5dcaf",
   "metadata": {},
   "outputs": [
    {
     "name": "stdout",
     "output_type": "stream",
     "text": [
      "\n",
      "Please wait, while the Quantum engine is running....\n"
     ]
    }
   ],
   "source": [
    "solution_int = annealer_solver(qubo2, backend='Quantum')"
   ]
  },
  {
   "cell_type": "code",
   "execution_count": 31,
   "id": "49fdafd8",
   "metadata": {},
   "outputs": [
    {
     "data": {
      "text/plain": [
       "array([2., 2., 0., 1., 5.])"
      ]
     },
     "execution_count": 31,
     "metadata": {},
     "output_type": "execute_result"
    }
   ],
   "source": [
    "solution_int@trans_mat2"
   ]
  },
  {
   "cell_type": "code",
   "execution_count": null,
   "id": "7503a4f1",
   "metadata": {},
   "outputs": [],
   "source": []
  }
 ],
 "metadata": {
  "kernelspec": {
   "display_name": "Python 3 (ipykernel)",
   "language": "python",
   "name": "python3"
  },
  "language_info": {
   "codemirror_mode": {
    "name": "ipython",
    "version": 3
   },
   "file_extension": ".py",
   "mimetype": "text/x-python",
   "name": "python",
   "nbconvert_exporter": "python",
   "pygments_lexer": "ipython3",
   "version": "3.9.12"
  }
 },
 "nbformat": 4,
 "nbformat_minor": 5
}
